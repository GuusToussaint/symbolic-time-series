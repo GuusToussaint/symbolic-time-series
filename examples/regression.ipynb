{
 "cells": [
  {
   "cell_type": "code",
   "execution_count": 2,
   "id": "192a3461",
   "metadata": {},
   "outputs": [],
   "source": [
    "import numpy as np\n",
    "import pandas as pd\n",
    "from edts import EDTS\n",
    "import logging\n",
    "\n",
    "\n",
    "# Generate a synthetic regression dataset with a known equation\n",
    "def generate_data(num_samples=10_000):\n",
    "    x_0 = np.random.normal(0, 10, num_samples)\n",
    "    x_1 = np.random.normal(0, 10, num_samples)\n",
    "\n",
    "    # y = 2*x0 + 3*x1 + 5\n",
    "    y = 2 * x_0 + 3 * x_1 + 5 + np.random.normal(0, 1, num_samples)\n",
    "\n",
    "    return pd.DataFrame({'x0': x_0, 'x1': x_1, 'target': y})\n",
    "logging.basicConfig(level=logging.INFO)\n",
    "jax_logger = logging.getLogger('jax')\n",
    "jax_logger.setLevel(logging.ERROR)\n",
    "\n",
    "data = generate_data()"
   ]
  },
  {
   "cell_type": "code",
   "execution_count": 3,
   "id": "6bf459b7",
   "metadata": {},
   "outputs": [
    {
     "name": "stderr",
     "output_type": "stream",
     "text": [
      "INFO:edc:Number of expanded building blocks: 8\n",
      "INFO:edc:Best loss at depth 0: 426.21954\n",
      "INFO:edc:Best loss at iteration 10/28: 426.21954\n",
      "INFO:edc:Best loss at iteration 20/28: 426.21954\n",
      "INFO:edc:Best loss at depth 1: 26.182837\n",
      "INFO:edc:Best loss at iteration 10/33: 26.182837\n",
      "INFO:edc:Best loss at iteration 20/33: 26.182837\n",
      "INFO:edc:Best loss at iteration 30/33: 26.182837\n",
      "INFO:edc:Best loss at depth 2: 1.4503188\n",
      "INFO:edc:Best loss at iteration 10/27: 1.4503188\n",
      "INFO:edc:Best loss at iteration 20/27: 1.4503188\n",
      "INFO:edc:Best loss at depth 3: 1.9768323\n"
     ]
    }
   ],
   "source": [
    "edts = EDTS(\n",
    "    data=data,\n",
    "    feature_names=['x0', 'x1'],\n",
    "    building_blocks=[\n",
    "        'c_',\n",
    "        'c_*x_',\n",
    "        'c_*x_*x_',\n",
    "        'c_*x_**2',\n",
    "        'sin(c_*x_)',\n",
    "    ],\n",
    "    iterations=2000,\n",
    ")\n",
    "\n",
    "edts.beam_search(\n",
    "    beam_width=10,\n",
    "    max_depth=4,\n",
    ")"
   ]
  },
  {
   "cell_type": "code",
   "execution_count": 4,
   "id": "481017b6",
   "metadata": {},
   "outputs": [
    {
     "name": "stdout",
     "output_type": "stream",
     "text": [
      "Found equation: 2.02553653717041*x0 + 2.99970316886902*x1 + 4.95020389556885\n",
      "True equation: 2*x0 + 3*x1 + 5\n"
     ]
    }
   ],
   "source": [
    "print(f\"Found equation: {edts.best_equation}\")\n",
    "print(\"True equation: 2*x0 + 3*x1 + 5\")"
   ]
  }
 ],
 "metadata": {
  "kernelspec": {
   "display_name": ".venv",
   "language": "python",
   "name": "python3"
  },
  "language_info": {
   "codemirror_mode": {
    "name": "ipython",
    "version": 3
   },
   "file_extension": ".py",
   "mimetype": "text/x-python",
   "name": "python",
   "nbconvert_exporter": "python",
   "pygments_lexer": "ipython3",
   "version": "3.13.6"
  }
 },
 "nbformat": 4,
 "nbformat_minor": 5
}
